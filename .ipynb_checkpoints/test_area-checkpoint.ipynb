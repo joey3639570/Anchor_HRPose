{
 "cells": [
  {
   "cell_type": "code",
   "execution_count": 1,
   "id": "33203fa6-dfb6-47cc-9aa4-8e8828966810",
   "metadata": {},
   "outputs": [],
   "source": [
    "from datasets import create_dataloader\n",
    "from general import colorstr, check_img_size\n",
    "import numpy as np"
   ]
  },
  {
   "cell_type": "code",
   "execution_count": 2,
   "id": "fa7ce0dd-6b57-4b53-a0f5-9c21158bc5b0",
   "metadata": {},
   "outputs": [],
   "source": [
    "import yaml"
   ]
  },
  {
   "cell_type": "code",
   "execution_count": 3,
   "id": "858a1113-576d-47d6-bd6a-d5512412292f",
   "metadata": {},
   "outputs": [],
   "source": [
    "train_path = \"../coco_kpts/train2017.txt\"  # 118287 images\n",
    "val_path = \"../coco_kpts/val2017.txt\"  # 5000 images\"\n",
    "\n",
    "# number of classes\n",
    "nc = 1\n",
    "\n",
    "names = ['person']\n",
    "\n",
    "gs = 32 # grid size\n",
    "img_size = [640, 640] # [train, test]\n",
    "imgsz, imgsz_test = [check_img_size(x, gs) for x in img_size]\n",
    "\n",
    "batch_size = 16\n",
    "\n",
    "\n",
    "hyp_file = \"hyp.yaml\"\n",
    "with open(hyp_file) as f:\n",
    "    hyp = yaml.safe_load(f)  # load hyps\n",
    "\n",
    "cache_images=False\n",
    "rank=-1\n",
    "world_size=1\n",
    "workers=4,\n",
    "image_weights=False\n",
    "quad=False\n",
    "kpt_label = True"
   ]
  },
  {
   "cell_type": "code",
   "execution_count": 4,
   "id": "ed651bb0-5372-452d-90f9-25b922db7c6a",
   "metadata": {},
   "outputs": [
    {
     "name": "stdout",
     "output_type": "stream",
     "text": [
      "[640, 640]\n"
     ]
    }
   ],
   "source": [
    "img_size.extend([img_size[-1]] * (2 - len(img_size)))\n",
    "print(img_size)"
   ]
  },
  {
   "cell_type": "code",
   "execution_count": 5,
   "id": "8fb8696c-31d6-44e8-9786-24584c81c912",
   "metadata": {},
   "outputs": [
    {
     "name": "stderr",
     "output_type": "stream",
     "text": [
      "\u001b[34m\u001b[1mtrain: \u001b[0mScanning '..\\coco_kpts\\train2017.cache' images and labels... 56599 found, 0 missing, 0 empty, 0 corrupted: 100%|\u001b[0m\n"
     ]
    }
   ],
   "source": [
    "dataloader, dataset = create_dataloader(train_path, imgsz, batch_size, gs,\n",
    "                                            hyp=hyp, augment=True, cache=cache_images, rank=rank,\n",
    "                                            world_size=world_size, workers=workers,\n",
    "                                            image_weights=image_weights, quad=quad, prefix=colorstr('train: '), kpt_label=kpt_label)"
   ]
  },
  {
   "cell_type": "code",
   "execution_count": 6,
   "id": "ce452568-b1ca-4228-beb8-0b3022d6fcb5",
   "metadata": {},
   "outputs": [],
   "source": [
    "mlc = np.concatenate(dataset.labels, 0)[:, 0].max()  # max label class\n",
    "nb = len(dataloader)  # number of batches"
   ]
  },
  {
   "cell_type": "code",
   "execution_count": 7,
   "id": "294941b6-ade2-439d-8939-1c7d75d3d606",
   "metadata": {},
   "outputs": [
    {
     "name": "stdout",
     "output_type": "stream",
     "text": [
      "0.0 3538\n"
     ]
    }
   ],
   "source": [
    "print(mlc, nb)"
   ]
  },
  {
   "cell_type": "code",
   "execution_count": null,
   "id": "6d467250-4a7e-45a1-a6c0-858725667c24",
   "metadata": {},
   "outputs": [],
   "source": [
    "pbar = enumerate(dataloader)"
   ]
  },
  {
   "cell_type": "code",
   "execution_count": null,
   "id": "0e2ebab5-76f7-45c7-aae7-9531ad978227",
   "metadata": {},
   "outputs": [],
   "source": []
  }
 ],
 "metadata": {
  "kernelspec": {
   "display_name": "Python 3",
   "language": "python",
   "name": "python3"
  },
  "language_info": {
   "codemirror_mode": {
    "name": "ipython",
    "version": 3
   },
   "file_extension": ".py",
   "mimetype": "text/x-python",
   "name": "python",
   "nbconvert_exporter": "python",
   "pygments_lexer": "ipython3",
   "version": "3.8.8"
  }
 },
 "nbformat": 4,
 "nbformat_minor": 5
}
