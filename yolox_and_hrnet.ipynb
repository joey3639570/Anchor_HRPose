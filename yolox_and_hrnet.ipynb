{
 "cells": [
  {
   "cell_type": "code",
   "execution_count": 1,
   "id": "e0c83066-fb48-43f0-b09e-298477b4738d",
   "metadata": {},
   "outputs": [],
   "source": [
    "import numpy as np\n",
    "import os"
   ]
  },
  {
   "cell_type": "code",
   "execution_count": 4,
   "id": "e3fc369b-b8f6-4ab4-aba1-31d0fc1247fa",
   "metadata": {},
   "outputs": [],
   "source": [
    "import argparse\n",
    "import random\n",
    "import warnings\n",
    "from loguru import logger\n",
    "\n",
    "import torch\n",
    "import torch.backends.cudnn as cudnn\n",
    "\n",
    "import trainer\n",
    "from exp import get_exp\n",
    "from utils import configure_nccl, configure_omp, get_num_devices"
   ]
  },
  {
   "cell_type": "code",
   "execution_count": null,
   "id": "56938390-8113-4720-a414-789a5abbd173",
   "metadata": {},
   "outputs": [],
   "source": [
    "_SUPPORTED_DATASETS = [\"coco_kpts\"]\n",
    "_NUM_CLASSES = {\"coco_kpts\":1}\n",
    "_VAL_ANN = {\n",
    "    \"coco_kpts\": \"person_keypoints_val2017.json\",\n",
    "}\n",
    "_TRAIN_ANN = {\n",
    "    \"coco_kpts\": \"person_keypoints_train2017.json\",\n",
    "}\n",
    "_SUPPORTED_TASKS = {\n",
    "    \"coco_kpts\": [\"2dod\", \"human_pose\"]\n",
    "}"
   ]
  },
  {
   "cell_type": "code",
   "execution_count": null,
   "id": "b498e76f-f6b7-4abe-998f-d9211963dd64",
   "metadata": {},
   "outputs": [],
   "source": [
    "trainer = Trainer(exp, args)\n",
    "trainer.train()"
   ]
  },
  {
   "cell_type": "code",
   "execution_count": null,
   "id": "5171057b-7e21-4935-a420-8eb5fdcf566e",
   "metadata": {},
   "outputs": [],
   "source": []
  }
 ],
 "metadata": {
  "kernelspec": {
   "display_name": "Python 3",
   "language": "python",
   "name": "python3"
  },
  "language_info": {
   "codemirror_mode": {
    "name": "ipython",
    "version": 3
   },
   "file_extension": ".py",
   "mimetype": "text/x-python",
   "name": "python",
   "nbconvert_exporter": "python",
   "pygments_lexer": "ipython3",
   "version": "3.8.8"
  }
 },
 "nbformat": 4,
 "nbformat_minor": 5
}
