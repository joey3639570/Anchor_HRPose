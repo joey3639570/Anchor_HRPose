{
 "cells": [
  {
   "cell_type": "code",
   "execution_count": 22,
   "id": "33203fa6-dfb6-47cc-9aa4-8e8828966810",
   "metadata": {},
   "outputs": [],
   "source": [
    "from datasets import create_dataloader\n",
    "from general import colorstr, check_img_size\n",
    "import numpy as np\n",
    "import os"
   ]
  },
  {
   "cell_type": "code",
   "execution_count": 2,
   "id": "fa7ce0dd-6b57-4b53-a0f5-9c21158bc5b0",
   "metadata": {},
   "outputs": [],
   "source": [
    "import yaml"
   ]
  },
  {
   "cell_type": "code",
   "execution_count": 3,
   "id": "858a1113-576d-47d6-bd6a-d5512412292f",
   "metadata": {},
   "outputs": [],
   "source": [
    "train_path = \"../coco_kpts/train2017.txt\"  # 118287 images\n",
    "val_path = \"../coco_kpts/val2017.txt\"  # 5000 images\"\n",
    "\n",
    "# number of classes\n",
    "nc = 1\n",
    "\n",
    "names = ['person']\n",
    "\n",
    "gs = 32 # grid size\n",
    "img_size = [640, 640] # [train, test]\n",
    "imgsz, imgsz_test = [check_img_size(x, gs) for x in img_size]\n",
    "\n",
    "batch_size = 4\n",
    "\n",
    "\n",
    "hyp_file = \"hyp.yaml\"\n",
    "with open(hyp_file) as f:\n",
    "    hyp = yaml.safe_load(f)  # load hyps\n",
    "\n",
    "cache_images=False\n",
    "rank=-1\n",
    "world_size=1\n",
    "workers=4,\n",
    "image_weights=False \n",
    "quad=False\n",
    "kpt_label = True"
   ]
  },
  {
   "cell_type": "code",
   "execution_count": 4,
   "id": "ed651bb0-5372-452d-90f9-25b922db7c6a",
   "metadata": {},
   "outputs": [
    {
     "name": "stdout",
     "output_type": "stream",
     "text": [
      "[640, 640]\n"
     ]
    }
   ],
   "source": [
    "img_size.extend([img_size[-1]] * (2 - len(img_size)))\n",
    "print(img_size)"
   ]
  },
  {
   "cell_type": "code",
   "execution_count": 5,
   "id": "8fb8696c-31d6-44e8-9786-24584c81c912",
   "metadata": {},
   "outputs": [
    {
     "name": "stderr",
     "output_type": "stream",
     "text": [
      "\u001b[34m\u001b[1mtrain: \u001b[0mScanning '..\\coco_kpts\\train2017.cache' images and labels... 56599 found, 0 missing, 0 empty, 0 corrupted: 100%|\u001b[0m\n"
     ]
    }
   ],
   "source": [
    "dataloader, dataset = create_dataloader(train_path, imgsz, batch_size, gs,\n",
    "                                            hyp=hyp, augment=True, cache=cache_images, rank=rank,\n",
    "                                            world_size=world_size, workers=workers,\n",
    "                                            image_weights=image_weights, quad=quad, prefix=colorstr('train: '), kpt_label=kpt_label)"
   ]
  },
  {
   "cell_type": "code",
   "execution_count": 6,
   "id": "ce452568-b1ca-4228-beb8-0b3022d6fcb5",
   "metadata": {},
   "outputs": [],
   "source": [
    "mlc = np.concatenate(dataset.labels, 0)[:, 0].max()  # max label class\n",
    "nb = len(dataloader)  # number of batches"
   ]
  },
  {
   "cell_type": "code",
   "execution_count": 7,
   "id": "294941b6-ade2-439d-8939-1c7d75d3d606",
   "metadata": {},
   "outputs": [
    {
     "name": "stdout",
     "output_type": "stream",
     "text": [
      "0.0 14150\n"
     ]
    }
   ],
   "source": [
    "print(mlc, nb)"
   ]
  },
  {
   "cell_type": "code",
   "execution_count": 8,
   "id": "6d467250-4a7e-45a1-a6c0-858725667c24",
   "metadata": {},
   "outputs": [],
   "source": [
    "pbar = enumerate(dataloader)"
   ]
  },
  {
   "cell_type": "code",
   "execution_count": 9,
   "id": "0e2ebab5-76f7-45c7-aae7-9531ad978227",
   "metadata": {},
   "outputs": [
    {
     "name": "stdout",
     "output_type": "stream",
     "text": [
      "['..\\\\coco_kpts\\\\images\\\\train2017\\\\000000000036.jpg', '..\\\\coco_kpts\\\\images\\\\train2017\\\\000000000049.jpg', '..\\\\coco_kpts\\\\images\\\\train2017\\\\000000000077.jpg', '..\\\\coco_kpts\\\\images\\\\train2017\\\\000000000086.jpg']\n",
      "['..\\\\coco_kpts\\\\images\\\\train2017\\\\000000000110.jpg', '..\\\\coco_kpts\\\\images\\\\train2017\\\\000000000113.jpg', '..\\\\coco_kpts\\\\images\\\\train2017\\\\000000000136.jpg', '..\\\\coco_kpts\\\\images\\\\train2017\\\\000000000151.jpg']\n",
      "['..\\\\coco_kpts\\\\images\\\\train2017\\\\000000000165.jpg', '..\\\\coco_kpts\\\\images\\\\train2017\\\\000000000192.jpg', '..\\\\coco_kpts\\\\images\\\\train2017\\\\000000000241.jpg', '..\\\\coco_kpts\\\\images\\\\train2017\\\\000000000257.jpg']\n",
      "['..\\\\coco_kpts\\\\images\\\\train2017\\\\000000000260.jpg', '..\\\\coco_kpts\\\\images\\\\train2017\\\\000000000294.jpg', '..\\\\coco_kpts\\\\images\\\\train2017\\\\000000000308.jpg', '..\\\\coco_kpts\\\\images\\\\train2017\\\\000000000315.jpg']\n",
      "['..\\\\coco_kpts\\\\images\\\\train2017\\\\000000000322.jpg', '..\\\\coco_kpts\\\\images\\\\train2017\\\\000000000326.jpg', '..\\\\coco_kpts\\\\images\\\\train2017\\\\000000000328.jpg', '..\\\\coco_kpts\\\\images\\\\train2017\\\\000000000338.jpg']\n",
      "['..\\\\coco_kpts\\\\images\\\\train2017\\\\000000000368.jpg', '..\\\\coco_kpts\\\\images\\\\train2017\\\\000000000370.jpg', '..\\\\coco_kpts\\\\images\\\\train2017\\\\000000000382.jpg', '..\\\\coco_kpts\\\\images\\\\train2017\\\\000000000389.jpg']\n",
      "['..\\\\coco_kpts\\\\images\\\\train2017\\\\000000000395.jpg', '..\\\\coco_kpts\\\\images\\\\train2017\\\\000000000397.jpg', '..\\\\coco_kpts\\\\images\\\\train2017\\\\000000000415.jpg', '..\\\\coco_kpts\\\\images\\\\train2017\\\\000000000419.jpg']\n",
      "['..\\\\coco_kpts\\\\images\\\\train2017\\\\000000000428.jpg', '..\\\\coco_kpts\\\\images\\\\train2017\\\\000000000431.jpg', '..\\\\coco_kpts\\\\images\\\\train2017\\\\000000000436.jpg', '..\\\\coco_kpts\\\\images\\\\train2017\\\\000000000443.jpg']\n",
      "['..\\\\coco_kpts\\\\images\\\\train2017\\\\000000000446.jpg', '..\\\\coco_kpts\\\\images\\\\train2017\\\\000000000459.jpg', '..\\\\coco_kpts\\\\images\\\\train2017\\\\000000000474.jpg', '..\\\\coco_kpts\\\\images\\\\train2017\\\\000000000488.jpg']\n",
      "['..\\\\coco_kpts\\\\images\\\\train2017\\\\000000000510.jpg', '..\\\\coco_kpts\\\\images\\\\train2017\\\\000000000529.jpg', '..\\\\coco_kpts\\\\images\\\\train2017\\\\000000000531.jpg', '..\\\\coco_kpts\\\\images\\\\train2017\\\\000000000532.jpg']\n",
      "['..\\\\coco_kpts\\\\images\\\\train2017\\\\000000000536.jpg', '..\\\\coco_kpts\\\\images\\\\train2017\\\\000000000542.jpg', '..\\\\coco_kpts\\\\images\\\\train2017\\\\000000000544.jpg', '..\\\\coco_kpts\\\\images\\\\train2017\\\\000000000564.jpg']\n",
      "['..\\\\coco_kpts\\\\images\\\\train2017\\\\000000000569.jpg', '..\\\\coco_kpts\\\\images\\\\train2017\\\\000000000572.jpg', '..\\\\coco_kpts\\\\images\\\\train2017\\\\000000000589.jpg', '..\\\\coco_kpts\\\\images\\\\train2017\\\\000000000623.jpg']\n"
     ]
    }
   ],
   "source": [
    "epoch = 1\n",
    "for i, (imgs, targets, paths, _) in pbar:  # batch -------------------------------------------------------------\n",
    "    print(paths)\n",
    "    if i>10:\n",
    "        break\n",
    "    ni = i + nb * epoch  # number integrated batches (since train start)"
   ]
  },
  {
   "cell_type": "code",
   "execution_count": 24,
   "id": "50cf42cb-e7db-48ca-9183-53394659e4d1",
   "metadata": {},
   "outputs": [],
   "source": [
    "import models\n",
    "from config import cfg\n",
    "from config import update_config\n",
    "import torch\n",
    "import torch.backends.cudnn as cudnn\n",
    "\n",
    "gpu = 0\n",
    "# cudnn related setting\n",
    "cudnn.benchmark = cfg.CUDNN.BENCHMARK\n",
    "torch.backends.cudnn.deterministic = cfg.CUDNN.DETERMINISTIC\n",
    "torch.backends.cudnn.enabled = cfg.CUDNN.ENABLED"
   ]
  },
  {
   "cell_type": "code",
   "execution_count": 20,
   "id": "12629b6c-c2c9-41d9-bb8f-9695f4a2eaaa",
   "metadata": {},
   "outputs": [],
   "source": [
    "def update_config_from_file(cfg, args_file_path):\n",
    "    cfg.defrost()\n",
    "    cfg.merge_from_file(args_file_path)\n",
    "\n",
    "    if not os.path.exists(cfg.DATASET.ROOT):\n",
    "        cfg.DATASET.ROOT = os.path.join(\n",
    "            cfg.DATA_DIR, cfg.DATASET.ROOT\n",
    "        )\n",
    "\n",
    "    cfg.freeze()"
   ]
  },
  {
   "cell_type": "code",
   "execution_count": 25,
   "id": "74bee1b0-1b5b-4029-81c2-d8fb9ef58734",
   "metadata": {},
   "outputs": [],
   "source": [
    "cfg_path = \"experiments/coco/w32/w32_4x_reg03_bs10_512_adam_lr1e-3_coco_x140.yaml\"\n",
    "update_config_from_file(cfg, cfg_path)\n",
    "cfg.defrost()\n",
    "cfg.RANK = 0\n",
    "cfg.freeze()\n",
    "\n",
    "model = models.hrnet_dekr.get_pose_net(cfg, is_train=True)\n",
    "torch.cuda.set_device(gpu)\n",
    "model = model.cuda(gpu)"
   ]
  },
  {
   "cell_type": "code",
   "execution_count": 26,
   "id": "fb2548ea-1fe2-41b2-a5aa-6d4767427b38",
   "metadata": {},
   "outputs": [
    {
     "ename": "AttributeError",
     "evalue": "'PoseHigherResolutionNet' object has no attribute 'summary'",
     "output_type": "error",
     "traceback": [
      "\u001b[1;31m---------------------------------------------------------------------------\u001b[0m",
      "\u001b[1;31mAttributeError\u001b[0m                            Traceback (most recent call last)",
      "\u001b[1;32m<ipython-input-26-5f15418b3570>\u001b[0m in \u001b[0;36m<module>\u001b[1;34m\u001b[0m\n\u001b[1;32m----> 1\u001b[1;33m \u001b[0mmodel\u001b[0m\u001b[1;33m.\u001b[0m\u001b[0msummary\u001b[0m\u001b[1;33m(\u001b[0m\u001b[1;33m)\u001b[0m\u001b[1;33m\u001b[0m\u001b[1;33m\u001b[0m\u001b[0m\n\u001b[0m",
      "\u001b[1;32m~\\anaconda3\\lib\\site-packages\\torch\\nn\\modules\\module.py\u001b[0m in \u001b[0;36m__getattr__\u001b[1;34m(self, name)\u001b[0m\n\u001b[0;32m   1128\u001b[0m             \u001b[1;32mif\u001b[0m \u001b[0mname\u001b[0m \u001b[1;32min\u001b[0m \u001b[0mmodules\u001b[0m\u001b[1;33m:\u001b[0m\u001b[1;33m\u001b[0m\u001b[1;33m\u001b[0m\u001b[0m\n\u001b[0;32m   1129\u001b[0m                 \u001b[1;32mreturn\u001b[0m \u001b[0mmodules\u001b[0m\u001b[1;33m[\u001b[0m\u001b[0mname\u001b[0m\u001b[1;33m]\u001b[0m\u001b[1;33m\u001b[0m\u001b[1;33m\u001b[0m\u001b[0m\n\u001b[1;32m-> 1130\u001b[1;33m         raise AttributeError(\"'{}' object has no attribute '{}'\".format(\n\u001b[0m\u001b[0;32m   1131\u001b[0m             type(self).__name__, name))\n\u001b[0;32m   1132\u001b[0m \u001b[1;33m\u001b[0m\u001b[0m\n",
      "\u001b[1;31mAttributeError\u001b[0m: 'PoseHigherResolutionNet' object has no attribute 'summary'"
     ]
    }
   ],
   "source": [
    "model.summary()"
   ]
  },
  {
   "cell_type": "code",
   "execution_count": null,
   "id": "49f54577-c6b3-4fcb-8e44-165c7d3e507b",
   "metadata": {},
   "outputs": [],
   "source": []
  }
 ],
 "metadata": {
  "kernelspec": {
   "display_name": "Python 3",
   "language": "python",
   "name": "python3"
  },
  "language_info": {
   "codemirror_mode": {
    "name": "ipython",
    "version": 3
   },
   "file_extension": ".py",
   "mimetype": "text/x-python",
   "name": "python",
   "nbconvert_exporter": "python",
   "pygments_lexer": "ipython3",
   "version": "3.8.8"
  }
 },
 "nbformat": 4,
 "nbformat_minor": 5
}
